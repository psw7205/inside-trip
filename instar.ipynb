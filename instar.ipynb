{
 "cells": [
  {
   "cell_type": "code",
   "execution_count": 4,
   "metadata": {},
   "outputs": [],
   "source": [
    "import numpy as np\n",
    "import pandas as pd \n",
    "from selenium import webdriver\n",
    "\n"
   ]
  },
  {
   "cell_type": "markdown",
   "metadata": {},
   "source": [
    "### 인스타그램 페이지 불러오기 "
   ]
  },
  {
   "cell_type": "code",
   "execution_count": 49,
   "metadata": {},
   "outputs": [],
   "source": [
    "import time\n",
    "driver=webdriver.Chrome('../webdriver/chromedriver.exe')\n",
    "driver.get('https://www.instagram.com')\n",
    "time.sleep(2)\n",
    "driver.get('https://www.instagram.com/explore/tags/%ED%95%B4%EC%99%B8%EC%97%AC%ED%96%89/')\n",
    "time.sleep(2)"
   ]
  },
  {
   "cell_type": "markdown",
   "metadata": {},
   "source": [
    "### 개인 피드만 가져오기 "
   ]
  },
  {
   "cell_type": "code",
   "execution_count": 46,
   "metadata": {},
   "outputs": [
    {
     "data": {
      "text/plain": [
       "[<selenium.webdriver.remote.webelement.WebElement (session=\"ee5c89fbe3ef0fd8e6c98f952b44ee7d\", element=\"0.2213406066116077-2\")>,\n",
       " <selenium.webdriver.remote.webelement.WebElement (session=\"ee5c89fbe3ef0fd8e6c98f952b44ee7d\", element=\"0.2213406066116077-3\")>,\n",
       " <selenium.webdriver.remote.webelement.WebElement (session=\"ee5c89fbe3ef0fd8e6c98f952b44ee7d\", element=\"0.2213406066116077-4\")>,\n",
       " <selenium.webdriver.remote.webelement.WebElement (session=\"ee5c89fbe3ef0fd8e6c98f952b44ee7d\", element=\"0.2213406066116077-5\")>,\n",
       " <selenium.webdriver.remote.webelement.WebElement (session=\"ee5c89fbe3ef0fd8e6c98f952b44ee7d\", element=\"0.2213406066116077-6\")>,\n",
       " <selenium.webdriver.remote.webelement.WebElement (session=\"ee5c89fbe3ef0fd8e6c98f952b44ee7d\", element=\"0.2213406066116077-7\")>,\n",
       " <selenium.webdriver.remote.webelement.WebElement (session=\"ee5c89fbe3ef0fd8e6c98f952b44ee7d\", element=\"0.2213406066116077-8\")>,\n",
       " <selenium.webdriver.remote.webelement.WebElement (session=\"ee5c89fbe3ef0fd8e6c98f952b44ee7d\", element=\"0.2213406066116077-9\")>,\n",
       " <selenium.webdriver.remote.webelement.WebElement (session=\"ee5c89fbe3ef0fd8e6c98f952b44ee7d\", element=\"0.2213406066116077-10\")>,\n",
       " <selenium.webdriver.remote.webelement.WebElement (session=\"ee5c89fbe3ef0fd8e6c98f952b44ee7d\", element=\"0.2213406066116077-11\")>,\n",
       " <selenium.webdriver.remote.webelement.WebElement (session=\"ee5c89fbe3ef0fd8e6c98f952b44ee7d\", element=\"0.2213406066116077-12\")>,\n",
       " <selenium.webdriver.remote.webelement.WebElement (session=\"ee5c89fbe3ef0fd8e6c98f952b44ee7d\", element=\"0.2213406066116077-13\")>,\n",
       " <selenium.webdriver.remote.webelement.WebElement (session=\"ee5c89fbe3ef0fd8e6c98f952b44ee7d\", element=\"0.2213406066116077-14\")>,\n",
       " <selenium.webdriver.remote.webelement.WebElement (session=\"ee5c89fbe3ef0fd8e6c98f952b44ee7d\", element=\"0.2213406066116077-15\")>,\n",
       " <selenium.webdriver.remote.webelement.WebElement (session=\"ee5c89fbe3ef0fd8e6c98f952b44ee7d\", element=\"0.2213406066116077-16\")>,\n",
       " <selenium.webdriver.remote.webelement.WebElement (session=\"ee5c89fbe3ef0fd8e6c98f952b44ee7d\", element=\"0.2213406066116077-17\")>,\n",
       " <selenium.webdriver.remote.webelement.WebElement (session=\"ee5c89fbe3ef0fd8e6c98f952b44ee7d\", element=\"0.2213406066116077-18\")>,\n",
       " <selenium.webdriver.remote.webelement.WebElement (session=\"ee5c89fbe3ef0fd8e6c98f952b44ee7d\", element=\"0.2213406066116077-19\")>,\n",
       " <selenium.webdriver.remote.webelement.WebElement (session=\"ee5c89fbe3ef0fd8e6c98f952b44ee7d\", element=\"0.2213406066116077-20\")>,\n",
       " <selenium.webdriver.remote.webelement.WebElement (session=\"ee5c89fbe3ef0fd8e6c98f952b44ee7d\", element=\"0.2213406066116077-21\")>,\n",
       " <selenium.webdriver.remote.webelement.WebElement (session=\"ee5c89fbe3ef0fd8e6c98f952b44ee7d\", element=\"0.2213406066116077-22\")>,\n",
       " <selenium.webdriver.remote.webelement.WebElement (session=\"ee5c89fbe3ef0fd8e6c98f952b44ee7d\", element=\"0.2213406066116077-23\")>,\n",
       " <selenium.webdriver.remote.webelement.WebElement (session=\"ee5c89fbe3ef0fd8e6c98f952b44ee7d\", element=\"0.2213406066116077-24\")>,\n",
       " <selenium.webdriver.remote.webelement.WebElement (session=\"ee5c89fbe3ef0fd8e6c98f952b44ee7d\", element=\"0.2213406066116077-25\")>,\n",
       " <selenium.webdriver.remote.webelement.WebElement (session=\"ee5c89fbe3ef0fd8e6c98f952b44ee7d\", element=\"0.2213406066116077-26\")>,\n",
       " <selenium.webdriver.remote.webelement.WebElement (session=\"ee5c89fbe3ef0fd8e6c98f952b44ee7d\", element=\"0.2213406066116077-27\")>,\n",
       " <selenium.webdriver.remote.webelement.WebElement (session=\"ee5c89fbe3ef0fd8e6c98f952b44ee7d\", element=\"0.2213406066116077-28\")>]"
      ]
     },
     "execution_count": 46,
     "metadata": {},
     "output_type": "execute_result"
    }
   ],
   "source": [
    "# target='#netizen_point_tab_inner>div>em'\n",
    "# result=driver.find_elements_by_css_selector(target)\n",
    "# result\n",
    "\n",
    "target = 'body > div._2dDPU.vCf6V > div.zZYga > div > article > div.eo2As > div.EtaWk > ul > div > li > div > div > div.C4VMK > span'\n",
    "data=driver.find_element_by_css_selector(target)\n",
    "result=data.find_elements_by_css_selector('a')\n",
    "result"
   ]
  },
  {
   "cell_type": "code",
   "execution_count": 47,
   "metadata": {},
   "outputs": [
    {
     "name": "stdout",
     "output_type": "stream",
     "text": [
      "#보정#보정법#색감#색감보정#색감미술관#색감깡패#라이트룸#파랑#인생샷#사진작가#사진보정#여행사진#여행에미치다#유디니#일상을여행으로#해외여행#발리여행#동남아여행#발리#인도네시아#여행지추천#여름휴가#휴양지#소니#소니이미지갤러리#카메라#사진찍기좋은곳"
     ]
    }
   ],
   "source": [
    "for i in result:\n",
    "    print(i.text,end='')"
   ]
  },
  {
   "cell_type": "markdown",
   "metadata": {},
   "source": [
    "## FOR 문을 이용하여 여러명의 데이터 가져오기 \n"
   ]
  },
  {
   "cell_type": "code",
   "execution_count": 65,
   "metadata": {},
   "outputs": [
    {
     "name": "stdout",
     "output_type": "stream",
     "text": [
      "1\n"
     ]
    },
    {
     "ename": "WebDriverException",
     "evalue": "Message: chrome not reachable\n  (Session info: chrome=76.0.3809.100)\n  (Driver info: chromedriver=2.35.528161 (5b82f2d2aae0ca24b877009200ced9065a772e73),platform=Windows NT 10.0.17134 x86_64)\n",
     "output_type": "error",
     "traceback": [
      "\u001b[1;31m---------------------------------------------------------------------------\u001b[0m",
      "\u001b[1;31mWebDriverException\u001b[0m                        Traceback (most recent call last)",
      "\u001b[1;32m<ipython-input-65-03ac483dac03>\u001b[0m in \u001b[0;36m<module>\u001b[1;34m\u001b[0m\n\u001b[0;32m      3\u001b[0m \u001b[1;32mfor\u001b[0m \u001b[0mi\u001b[0m \u001b[1;32min\u001b[0m \u001b[0mrange\u001b[0m\u001b[1;33m(\u001b[0m\u001b[1;36m1\u001b[0m\u001b[1;33m,\u001b[0m\u001b[1;36m11\u001b[0m\u001b[1;33m)\u001b[0m\u001b[1;33m:\u001b[0m\u001b[1;33m\u001b[0m\u001b[1;33m\u001b[0m\u001b[0m\n\u001b[0;32m      4\u001b[0m     \u001b[0mprint\u001b[0m\u001b[1;33m(\u001b[0m\u001b[0mi\u001b[0m\u001b[1;33m)\u001b[0m\u001b[1;33m\u001b[0m\u001b[1;33m\u001b[0m\u001b[0m\n\u001b[1;32m----> 5\u001b[1;33m     \u001b[0mdriver\u001b[0m\u001b[1;33m.\u001b[0m\u001b[0mget\u001b[0m\u001b[1;33m(\u001b[0m\u001b[1;34m'https://www.instagram.com/explore/tags/%ED%95%B4%EC%99%B8%EC%97%AC%ED%96%89/'\u001b[0m\u001b[1;33m)\u001b[0m\u001b[1;33m\u001b[0m\u001b[1;33m\u001b[0m\u001b[0m\n\u001b[0m\u001b[0;32m      6\u001b[0m     \u001b[0mtarget\u001b[0m\u001b[1;33m=\u001b[0m\u001b[1;34m'#react-root > section'\u001b[0m\u001b[1;33m\u001b[0m\u001b[1;33m\u001b[0m\u001b[0m\n\u001b[0;32m      7\u001b[0m     \u001b[0mresult\u001b[0m\u001b[1;33m=\u001b[0m\u001b[0mdriver\u001b[0m\u001b[1;33m.\u001b[0m\u001b[0mfind_elements_by_css_selector\u001b[0m\u001b[1;33m(\u001b[0m\u001b[0mtarget\u001b[0m\u001b[1;33m)\u001b[0m\u001b[1;33m\u001b[0m\u001b[1;33m\u001b[0m\u001b[0m\n",
      "\u001b[1;32mC:\\ProgramData\\Anaconda3\\lib\\site-packages\\selenium\\webdriver\\remote\\webdriver.py\u001b[0m in \u001b[0;36mget\u001b[1;34m(self, url)\u001b[0m\n\u001b[0;32m    331\u001b[0m         \u001b[0mLoads\u001b[0m \u001b[0ma\u001b[0m \u001b[0mweb\u001b[0m \u001b[0mpage\u001b[0m \u001b[1;32min\u001b[0m \u001b[0mthe\u001b[0m \u001b[0mcurrent\u001b[0m \u001b[0mbrowser\u001b[0m \u001b[0msession\u001b[0m\u001b[1;33m.\u001b[0m\u001b[1;33m\u001b[0m\u001b[1;33m\u001b[0m\u001b[0m\n\u001b[0;32m    332\u001b[0m         \"\"\"\n\u001b[1;32m--> 333\u001b[1;33m         \u001b[0mself\u001b[0m\u001b[1;33m.\u001b[0m\u001b[0mexecute\u001b[0m\u001b[1;33m(\u001b[0m\u001b[0mCommand\u001b[0m\u001b[1;33m.\u001b[0m\u001b[0mGET\u001b[0m\u001b[1;33m,\u001b[0m \u001b[1;33m{\u001b[0m\u001b[1;34m'url'\u001b[0m\u001b[1;33m:\u001b[0m \u001b[0murl\u001b[0m\u001b[1;33m}\u001b[0m\u001b[1;33m)\u001b[0m\u001b[1;33m\u001b[0m\u001b[1;33m\u001b[0m\u001b[0m\n\u001b[0m\u001b[0;32m    334\u001b[0m \u001b[1;33m\u001b[0m\u001b[0m\n\u001b[0;32m    335\u001b[0m     \u001b[1;33m@\u001b[0m\u001b[0mproperty\u001b[0m\u001b[1;33m\u001b[0m\u001b[1;33m\u001b[0m\u001b[0m\n",
      "\u001b[1;32mC:\\ProgramData\\Anaconda3\\lib\\site-packages\\selenium\\webdriver\\remote\\webdriver.py\u001b[0m in \u001b[0;36mexecute\u001b[1;34m(self, driver_command, params)\u001b[0m\n\u001b[0;32m    319\u001b[0m         \u001b[0mresponse\u001b[0m \u001b[1;33m=\u001b[0m \u001b[0mself\u001b[0m\u001b[1;33m.\u001b[0m\u001b[0mcommand_executor\u001b[0m\u001b[1;33m.\u001b[0m\u001b[0mexecute\u001b[0m\u001b[1;33m(\u001b[0m\u001b[0mdriver_command\u001b[0m\u001b[1;33m,\u001b[0m \u001b[0mparams\u001b[0m\u001b[1;33m)\u001b[0m\u001b[1;33m\u001b[0m\u001b[1;33m\u001b[0m\u001b[0m\n\u001b[0;32m    320\u001b[0m         \u001b[1;32mif\u001b[0m \u001b[0mresponse\u001b[0m\u001b[1;33m:\u001b[0m\u001b[1;33m\u001b[0m\u001b[1;33m\u001b[0m\u001b[0m\n\u001b[1;32m--> 321\u001b[1;33m             \u001b[0mself\u001b[0m\u001b[1;33m.\u001b[0m\u001b[0merror_handler\u001b[0m\u001b[1;33m.\u001b[0m\u001b[0mcheck_response\u001b[0m\u001b[1;33m(\u001b[0m\u001b[0mresponse\u001b[0m\u001b[1;33m)\u001b[0m\u001b[1;33m\u001b[0m\u001b[1;33m\u001b[0m\u001b[0m\n\u001b[0m\u001b[0;32m    322\u001b[0m             response['value'] = self._unwrap_value(\n\u001b[0;32m    323\u001b[0m                 response.get('value', None))\n",
      "\u001b[1;32mC:\\ProgramData\\Anaconda3\\lib\\site-packages\\selenium\\webdriver\\remote\\errorhandler.py\u001b[0m in \u001b[0;36mcheck_response\u001b[1;34m(self, response)\u001b[0m\n\u001b[0;32m    240\u001b[0m                 \u001b[0malert_text\u001b[0m \u001b[1;33m=\u001b[0m \u001b[0mvalue\u001b[0m\u001b[1;33m[\u001b[0m\u001b[1;34m'alert'\u001b[0m\u001b[1;33m]\u001b[0m\u001b[1;33m.\u001b[0m\u001b[0mget\u001b[0m\u001b[1;33m(\u001b[0m\u001b[1;34m'text'\u001b[0m\u001b[1;33m)\u001b[0m\u001b[1;33m\u001b[0m\u001b[1;33m\u001b[0m\u001b[0m\n\u001b[0;32m    241\u001b[0m             \u001b[1;32mraise\u001b[0m \u001b[0mexception_class\u001b[0m\u001b[1;33m(\u001b[0m\u001b[0mmessage\u001b[0m\u001b[1;33m,\u001b[0m \u001b[0mscreen\u001b[0m\u001b[1;33m,\u001b[0m \u001b[0mstacktrace\u001b[0m\u001b[1;33m,\u001b[0m \u001b[0malert_text\u001b[0m\u001b[1;33m)\u001b[0m\u001b[1;33m\u001b[0m\u001b[1;33m\u001b[0m\u001b[0m\n\u001b[1;32m--> 242\u001b[1;33m         \u001b[1;32mraise\u001b[0m \u001b[0mexception_class\u001b[0m\u001b[1;33m(\u001b[0m\u001b[0mmessage\u001b[0m\u001b[1;33m,\u001b[0m \u001b[0mscreen\u001b[0m\u001b[1;33m,\u001b[0m \u001b[0mstacktrace\u001b[0m\u001b[1;33m)\u001b[0m\u001b[1;33m\u001b[0m\u001b[1;33m\u001b[0m\u001b[0m\n\u001b[0m\u001b[0;32m    243\u001b[0m \u001b[1;33m\u001b[0m\u001b[0m\n\u001b[0;32m    244\u001b[0m     \u001b[1;32mdef\u001b[0m \u001b[0m_value_or_default\u001b[0m\u001b[1;33m(\u001b[0m\u001b[0mself\u001b[0m\u001b[1;33m,\u001b[0m \u001b[0mobj\u001b[0m\u001b[1;33m,\u001b[0m \u001b[0mkey\u001b[0m\u001b[1;33m,\u001b[0m \u001b[0mdefault\u001b[0m\u001b[1;33m)\u001b[0m\u001b[1;33m:\u001b[0m\u001b[1;33m\u001b[0m\u001b[1;33m\u001b[0m\u001b[0m\n",
      "\u001b[1;31mWebDriverException\u001b[0m: Message: chrome not reachable\n  (Session info: chrome=76.0.3809.100)\n  (Driver info: chromedriver=2.35.528161 (5b82f2d2aae0ca24b877009200ced9065a772e73),platform=Windows NT 10.0.17134 x86_64)\n"
     ]
    }
   ],
   "source": [
    "result_list=[]\n",
    "\n",
    "for i in range(1,11):\n",
    "    print(i)\n",
    "    driver.get('https://www.instagram.com/explore/tags/%ED%95%B4%EC%99%B8%EC%97%AC%ED%96%89/')\n",
    "    target='#react-root > section'\n",
    "    result=driver.find_elements_by_css_selector(target)\n",
    "    # 리뷰 내용을 리스트에 추가 \n",
    "    for j in result:\n",
    "        result_list.append(j.text)"
   ]
  },
  {
   "cell_type": "code",
   "execution_count": 56,
   "metadata": {},
   "outputs": [
    {
     "name": "stdout",
     "output_type": "stream",
     "text": [
      "[]\n"
     ]
    }
   ],
   "source": [
    "print(result_list)"
   ]
  }
 ],
 "metadata": {
  "kernelspec": {
   "display_name": "Python 3",
   "language": "python",
   "name": "python3"
  },
  "language_info": {
   "codemirror_mode": {
    "name": "ipython",
    "version": 3
   },
   "file_extension": ".py",
   "mimetype": "text/x-python",
   "name": "python",
   "nbconvert_exporter": "python",
   "pygments_lexer": "ipython3",
   "version": "3.7.3"
  }
 },
 "nbformat": 4,
 "nbformat_minor": 2
}
